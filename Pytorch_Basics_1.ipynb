{
  "nbformat": 4,
  "nbformat_minor": 0,
  "metadata": {
    "colab": {
      "name": "Pytorch Basics 1.ipynb",
      "provenance": [],
      "collapsed_sections": [],
      "authorship_tag": "ABX9TyN3YRWOpj6ijsq0V/HsJXUt",
      "include_colab_link": true
    },
    "kernelspec": {
      "name": "python3",
      "display_name": "Python 3"
    },
    "language_info": {
      "name": "python"
    }
  },
  "cells": [
    {
      "cell_type": "markdown",
      "metadata": {
        "id": "view-in-github",
        "colab_type": "text"
      },
      "source": [
        "<a href=\"https://colab.research.google.com/github/BhavikDudhrejiya/Pytorch_Basics/blob/main/Pytorch_Basics_1.ipynb\" target=\"_parent\"><img src=\"https://colab.research.google.com/assets/colab-badge.svg\" alt=\"Open In Colab\"/></a>"
      ]
    },
    {
      "cell_type": "markdown",
      "source": [
        "PyTorch is an open source machine learning framework based on the Torch library, used for applications such as computer vision and natural language processing, primarily developed by Facebook's AI Research lab. It is free and open-source software released under the Modified BSD license. "
      ],
      "metadata": {
        "id": "CdY4IhFaRSeb"
      }
    },
    {
      "cell_type": "code",
      "execution_count": 1,
      "metadata": {
        "id": "vY_8ADutJ9ib"
      },
      "outputs": [],
      "source": [
        "#Importing torch library\n",
        "import torch"
      ]
    },
    {
      "cell_type": "markdown",
      "source": [
        "# NUMBERS AND FLOAT TENSOR"
      ],
      "metadata": {
        "id": "FqxI28HBTuaZ"
      }
    },
    {
      "cell_type": "markdown",
      "source": [
        "Tensor is a number, vector, matrix, or any n-dimensional array"
      ],
      "metadata": {
        "id": "YAKEuuRmSRw0"
      }
    },
    {
      "cell_type": "code",
      "source": [
        "#Creating float tensor\n",
        "t1 = torch.tensor(4.)\n",
        "t1"
      ],
      "metadata": {
        "colab": {
          "base_uri": "https://localhost:8080/"
        },
        "id": "f6qFrjZ7N-XY",
        "outputId": "b26d5c57-8f5e-4d05-fcf0-0566d931b203"
      },
      "execution_count": null,
      "outputs": [
        {
          "output_type": "execute_result",
          "data": {
            "text/plain": [
              "tensor(4.)"
            ]
          },
          "metadata": {},
          "execution_count": 7
        }
      ]
    },
    {
      "cell_type": "code",
      "source": [
        "#Checking the data type of tensor\n",
        "t1.dtype"
      ],
      "metadata": {
        "colab": {
          "base_uri": "https://localhost:8080/"
        },
        "id": "L6eEHanMN-gU",
        "outputId": "27e768c0-3264-4a29-b6f4-b7459c16c65a"
      },
      "execution_count": null,
      "outputs": [
        {
          "output_type": "execute_result",
          "data": {
            "text/plain": [
              "torch.float32"
            ]
          },
          "metadata": {},
          "execution_count": 9
        }
      ]
    },
    {
      "cell_type": "code",
      "source": [
        "#Creating integer tensor\n",
        "t2 = torch.tensor(4)\n",
        "t2"
      ],
      "metadata": {
        "colab": {
          "base_uri": "https://localhost:8080/"
        },
        "id": "cVmHkSfcN-a7",
        "outputId": "e2db3166-994c-4fe0-d858-9d18ddb7d7c6"
      },
      "execution_count": null,
      "outputs": [
        {
          "output_type": "execute_result",
          "data": {
            "text/plain": [
              "tensor(4)"
            ]
          },
          "metadata": {},
          "execution_count": 8
        }
      ]
    },
    {
      "cell_type": "code",
      "source": [
        "#Checking the data type of tensor\n",
        "t2.dtype"
      ],
      "metadata": {
        "colab": {
          "base_uri": "https://localhost:8080/"
        },
        "id": "A0pvUEUwN-j2",
        "outputId": "35eb86be-88df-446f-a87e-82d869d08a1a"
      },
      "execution_count": null,
      "outputs": [
        {
          "output_type": "execute_result",
          "data": {
            "text/plain": [
              "torch.int64"
            ]
          },
          "metadata": {},
          "execution_count": 10
        }
      ]
    },
    {
      "cell_type": "markdown",
      "source": [
        "# VECTOR TENSOR"
      ],
      "metadata": {
        "id": "MPshtXqVT2EQ"
      }
    },
    {
      "cell_type": "code",
      "source": [
        "#Creating integer vector\n",
        "v1 = torch.tensor([1,2,3,4,5,6,7,8,9])\n",
        "v1"
      ],
      "metadata": {
        "colab": {
          "base_uri": "https://localhost:8080/"
        },
        "id": "_HgtVcq4Tkla",
        "outputId": "99278338-a19e-4dc0-de92-e9f4363db3cc"
      },
      "execution_count": null,
      "outputs": [
        {
          "output_type": "execute_result",
          "data": {
            "text/plain": [
              "tensor([1, 2, 3, 4, 5, 6, 7, 8, 9])"
            ]
          },
          "metadata": {},
          "execution_count": 11
        }
      ]
    },
    {
      "cell_type": "code",
      "source": [
        "#Checking data type\n",
        "v1.dtype"
      ],
      "metadata": {
        "colab": {
          "base_uri": "https://localhost:8080/"
        },
        "id": "EbqrgzVOUeAm",
        "outputId": "9d3eea25-9d3e-48a2-dca0-55d3ee5040a9"
      },
      "execution_count": null,
      "outputs": [
        {
          "output_type": "execute_result",
          "data": {
            "text/plain": [
              "torch.int64"
            ]
          },
          "metadata": {},
          "execution_count": 13
        }
      ]
    },
    {
      "cell_type": "code",
      "source": [
        "#Creating float vector\n",
        "v2 = torch.tensor([1.0, 2.0, 3.0, 4.0, 5.0, 6.0, 7.0, 8.0, 9.0])\n",
        "v2"
      ],
      "metadata": {
        "colab": {
          "base_uri": "https://localhost:8080/"
        },
        "id": "eJikTeatUHKe",
        "outputId": "266dae67-a250-4448-e1fc-8ed7287b9524"
      },
      "execution_count": null,
      "outputs": [
        {
          "output_type": "execute_result",
          "data": {
            "text/plain": [
              "tensor([1., 2., 3., 4., 5., 6., 7., 8., 9.])"
            ]
          },
          "metadata": {},
          "execution_count": 12
        }
      ]
    },
    {
      "cell_type": "code",
      "source": [
        "#Checking data type\n",
        "v2.dtype"
      ],
      "metadata": {
        "colab": {
          "base_uri": "https://localhost:8080/"
        },
        "id": "f7Nrr6UZUbot",
        "outputId": "61e240c2-a04f-4ed1-cf96-73123a88c917"
      },
      "execution_count": null,
      "outputs": [
        {
          "output_type": "execute_result",
          "data": {
            "text/plain": [
              "torch.float32"
            ]
          },
          "metadata": {},
          "execution_count": 14
        }
      ]
    },
    {
      "cell_type": "code",
      "source": [
        "#Creating float and integer tensor\n",
        "v3 = torch.tensor([1.0,2,3,4,5,6,7,8,9])\n",
        "v3"
      ],
      "metadata": {
        "colab": {
          "base_uri": "https://localhost:8080/"
        },
        "id": "fqhuXY7SUmMM",
        "outputId": "8441ff1c-1e79-4e3d-c3ac-c822cf03ddaf"
      },
      "execution_count": null,
      "outputs": [
        {
          "output_type": "execute_result",
          "data": {
            "text/plain": [
              "tensor([1., 2., 3., 4., 5., 6., 7., 8., 9.])"
            ]
          },
          "metadata": {},
          "execution_count": 15
        }
      ]
    },
    {
      "cell_type": "markdown",
      "source": [
        "#MATRIX TENSOR"
      ],
      "metadata": {
        "id": "Pf3oAeS8VAKe"
      }
    },
    {
      "cell_type": "code",
      "source": [
        "#Creating matrix tensor\n",
        "m1 = torch.tensor([[5,6],\n",
        "                  [7,8],\n",
        "                  [9, 10]])\n",
        "m1\n",
        "#This matrix have 3 rows and 2 columns"
      ],
      "metadata": {
        "colab": {
          "base_uri": "https://localhost:8080/"
        },
        "id": "IlIP3FEJU40U",
        "outputId": "bccf11fb-5764-4b93-bc46-c4a5191b1e77"
      },
      "execution_count": null,
      "outputs": [
        {
          "output_type": "execute_result",
          "data": {
            "text/plain": [
              "tensor([[ 5,  6],\n",
              "        [ 7,  8],\n",
              "        [ 9, 10]])"
            ]
          },
          "metadata": {},
          "execution_count": 16
        }
      ]
    },
    {
      "cell_type": "code",
      "source": [
        "#Checking shape\n",
        "m1.shape"
      ],
      "metadata": {
        "colab": {
          "base_uri": "https://localhost:8080/"
        },
        "id": "-XSOvLBqa4A2",
        "outputId": "e333b3bf-fb00-4f0d-bde4-4d2dd5024ef4"
      },
      "execution_count": null,
      "outputs": [
        {
          "output_type": "execute_result",
          "data": {
            "text/plain": [
              "torch.Size([3, 2])"
            ]
          },
          "metadata": {},
          "execution_count": 18
        }
      ]
    },
    {
      "cell_type": "markdown",
      "source": [
        "#ARRAY TENSOR"
      ],
      "metadata": {
        "id": "dgMtgI3fVk23"
      }
    },
    {
      "cell_type": "code",
      "source": [
        "#Creating 3d array tensor\n",
        "a1 = torch.tensor([\n",
        "                   [[11,12,13],\n",
        "                    [13, 14, 15]],\n",
        "                   [[15, 16, 17],\n",
        "                    [17, 18, 19]]\n",
        "])\n",
        "\n",
        "a1"
      ],
      "metadata": {
        "colab": {
          "base_uri": "https://localhost:8080/"
        },
        "id": "XF0ZsrzJVXva",
        "outputId": "750dcfd0-d2b1-48bb-adc5-0f44f8898467"
      },
      "execution_count": null,
      "outputs": [
        {
          "output_type": "execute_result",
          "data": {
            "text/plain": [
              "tensor([[[11, 12, 13],\n",
              "         [13, 14, 15]],\n",
              "\n",
              "        [[15, 16, 17],\n",
              "         [17, 18, 19]]])"
            ]
          },
          "metadata": {},
          "execution_count": 17
        }
      ]
    },
    {
      "cell_type": "code",
      "source": [
        "#Checking shape\n",
        "a1.shape"
      ],
      "metadata": {
        "colab": {
          "base_uri": "https://localhost:8080/"
        },
        "id": "xQcgMqQ5WLsa",
        "outputId": "6d4956b5-cd68-4b60-a614-8b653070e892"
      },
      "execution_count": null,
      "outputs": [
        {
          "output_type": "execute_result",
          "data": {
            "text/plain": [
              "torch.Size([2, 2, 3])"
            ]
          },
          "metadata": {},
          "execution_count": 19
        }
      ]
    },
    {
      "cell_type": "markdown",
      "source": [
        "#TENSOR OPERATIONS AND GRADIENTS"
      ],
      "metadata": {
        "id": "Kk4LglxhyG8b"
      }
    },
    {
      "cell_type": "code",
      "source": [
        "#Creating tensors\n",
        "x = torch.tensor(3.)\n",
        "w = torch.tensor(4., requires_grad=True)\n",
        "b = torch.tensor(5., requires_grad=True)\n",
        "x,w,b"
      ],
      "metadata": {
        "colab": {
          "base_uri": "https://localhost:8080/"
        },
        "id": "Ef-ObpXRbCXC",
        "outputId": "f41f8dc8-36e5-4d8b-da23-133424dd653e"
      },
      "execution_count": null,
      "outputs": [
        {
          "output_type": "execute_result",
          "data": {
            "text/plain": [
              "(tensor(3.), tensor(4., requires_grad=True), tensor(5., requires_grad=True))"
            ]
          },
          "metadata": {},
          "execution_count": 3
        }
      ]
    },
    {
      "cell_type": "code",
      "source": [
        "#Arithmetic operation\n",
        "y = w*x+b\n",
        "y"
      ],
      "metadata": {
        "colab": {
          "base_uri": "https://localhost:8080/"
        },
        "id": "bfnyko4ryhIw",
        "outputId": "ffa6bbdf-5d53-4cd9-9dd1-8302dca881b6"
      },
      "execution_count": null,
      "outputs": [
        {
          "output_type": "execute_result",
          "data": {
            "text/plain": [
              "tensor(17., grad_fn=<AddBackward0>)"
            ]
          },
          "metadata": {},
          "execution_count": 4
        }
      ]
    },
    {
      "cell_type": "code",
      "source": [
        "#Compute derivate of x & b w.r.t y\n",
        "y.backward()"
      ],
      "metadata": {
        "id": "EdVEufMWzjQh"
      },
      "execution_count": null,
      "outputs": []
    },
    {
      "cell_type": "code",
      "source": [
        "#Display gradient of the w & b\n",
        "print(f'dy/dx : {x.grad}')\n",
        "print(f'dy/dw : {w.grad}')\n",
        "print(f'dy/db : {b.grad}')"
      ],
      "metadata": {
        "colab": {
          "base_uri": "https://localhost:8080/"
        },
        "id": "v3HxRJ1Yys6B",
        "outputId": "d235c183-0f71-4dbf-bdae-9e97f3ba8afd"
      },
      "execution_count": null,
      "outputs": [
        {
          "output_type": "stream",
          "name": "stdout",
          "text": [
            "dy/dx : None\n",
            "dy/dw : 3.0\n",
            "dy/db : 1.0\n"
          ]
        }
      ]
    },
    {
      "cell_type": "code",
      "source": [
        "  #Checking data type\n",
        "  x.dtype, y.dtype, w.dtype, b.dtype"
      ],
      "metadata": {
        "colab": {
          "base_uri": "https://localhost:8080/"
        },
        "id": "aAVBkHu2zb3C",
        "outputId": "c73135c2-0cd0-43f1-eb2b-7d323648ba06"
      },
      "execution_count": null,
      "outputs": [
        {
          "output_type": "execute_result",
          "data": {
            "text/plain": [
              "(torch.float32, torch.float32, torch.float32, torch.float32)"
            ]
          },
          "metadata": {},
          "execution_count": 7
        }
      ]
    },
    {
      "cell_type": "markdown",
      "source": [
        "#CONVERTING TENSOR INTO NUMPY"
      ],
      "metadata": {
        "id": "jK2WTwvMIor2"
      }
    },
    {
      "cell_type": "code",
      "source": [
        "#Importing numpy library\n",
        "import numpy as np"
      ],
      "metadata": {
        "id": "kMPu8wo1IshI"
      },
      "execution_count": 2,
      "outputs": []
    },
    {
      "cell_type": "code",
      "source": [
        "#Creating numpy array\n",
        "x = np.array([[1,2], [3.,4.]])\n",
        "x"
      ],
      "metadata": {
        "colab": {
          "base_uri": "https://localhost:8080/"
        },
        "id": "5DSq8KtlIsjy",
        "outputId": "3b4c2acb-1a27-4a8c-800c-d294482cb35f"
      },
      "execution_count": null,
      "outputs": [
        {
          "output_type": "execute_result",
          "data": {
            "text/plain": [
              "array([[1., 2.],\n",
              "       [3., 4.]])"
            ]
          },
          "metadata": {},
          "execution_count": 11
        }
      ]
    },
    {
      "cell_type": "code",
      "source": [
        "#Data type\n",
        "x.dtype"
      ],
      "metadata": {
        "colab": {
          "base_uri": "https://localhost:8080/"
        },
        "id": "FSxivr-JJPeP",
        "outputId": "89ee9de4-2a30-4427-e1a4-5ac5712726f6"
      },
      "execution_count": null,
      "outputs": [
        {
          "output_type": "execute_result",
          "data": {
            "text/plain": [
              "dtype('float64')"
            ]
          },
          "metadata": {},
          "execution_count": 13
        }
      ]
    },
    {
      "cell_type": "code",
      "source": [
        "#Converting numpy array into tensor\n",
        "y = torch.from_numpy(x)\n",
        "y"
      ],
      "metadata": {
        "colab": {
          "base_uri": "https://localhost:8080/"
        },
        "id": "Xh_nKjFvIsmi",
        "outputId": "1208a80d-1389-477a-dc86-08c76e50acc9"
      },
      "execution_count": null,
      "outputs": [
        {
          "output_type": "execute_result",
          "data": {
            "text/plain": [
              "tensor([[1., 2.],\n",
              "        [3., 4.]], dtype=torch.float64)"
            ]
          },
          "metadata": {},
          "execution_count": 12
        }
      ]
    },
    {
      "cell_type": "code",
      "source": [
        "#Data type\n",
        "y.dtype"
      ],
      "metadata": {
        "colab": {
          "base_uri": "https://localhost:8080/"
        },
        "id": "nxxI70u_JSb-",
        "outputId": "30cdf4da-ee59-470f-8501-434efb85835a"
      },
      "execution_count": null,
      "outputs": [
        {
          "output_type": "execute_result",
          "data": {
            "text/plain": [
              "torch.float64"
            ]
          },
          "metadata": {},
          "execution_count": 14
        }
      ]
    },
    {
      "cell_type": "code",
      "source": [
        "#Converting tensor into numpy\n",
        "z = y.numpy()\n",
        "z"
      ],
      "metadata": {
        "id": "5_rNszWM1-qZ",
        "colab": {
          "base_uri": "https://localhost:8080/"
        },
        "outputId": "ddcbfa7e-817b-4e81-f6a8-18de0efdb523"
      },
      "execution_count": null,
      "outputs": [
        {
          "output_type": "execute_result",
          "data": {
            "text/plain": [
              "array([[1., 2.],\n",
              "       [3., 4.]])"
            ]
          },
          "metadata": {},
          "execution_count": 15
        }
      ]
    },
    {
      "cell_type": "code",
      "source": [
        ""
      ],
      "metadata": {
        "id": "wAsOBH4thuYi"
      },
      "execution_count": null,
      "outputs": []
    }
  ]
}